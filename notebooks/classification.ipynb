{
 "cells": [
  {
   "cell_type": "markdown",
   "id": "c8f0134f",
   "metadata": {},
   "source": [
    "# Dataset selection\n",
    "Loading MNIST dataset for classification digits."
   ]
  },
  {
   "cell_type": "code",
   "execution_count": 38,
   "id": "3b60ab80",
   "metadata": {},
   "outputs": [],
   "source": [
    "# loading MNIST dataset from openml\n",
    "import pandas as pd\n",
    "import numpy as np\n",
    "from sklearn.datasets import fetch_openml\n",
    "\n",
    "mnist = fetch_openml(\"mnist_784\", as_frame=False, parser='auto')"
   ]
  },
  {
   "cell_type": "code",
   "execution_count": 39,
   "id": "6ead1d94",
   "metadata": {
    "scrolled": false
   },
   "outputs": [],
   "source": [
    "X, y = mnist.data, mnist.target.astype('int')"
   ]
  },
  {
   "cell_type": "code",
   "execution_count": 40,
   "id": "c23cd965",
   "metadata": {},
   "outputs": [
    {
     "name": "stdout",
     "output_type": "stream",
     "text": [
      "[[0 0 0 ... 0 0 0]\n",
      " [0 0 0 ... 0 0 0]\n",
      " [0 0 0 ... 0 0 0]\n",
      " ...\n",
      " [0 0 0 ... 0 0 0]\n",
      " [0 0 0 ... 0 0 0]\n",
      " [0 0 0 ... 0 0 0]]\n",
      "[5 0 4 ... 4 5 6]\n"
     ]
    }
   ],
   "source": [
    "print(X, y, sep='\\n')"
   ]
  },
  {
   "cell_type": "code",
   "execution_count": 41,
   "id": "899bb59c",
   "metadata": {},
   "outputs": [
    {
     "name": "stdout",
     "output_type": "stream",
     "text": [
      "(70000, 784)\n",
      "(70000,)\n"
     ]
    }
   ],
   "source": [
    "# get the idea of the shape \n",
    "print(X.shape)\n",
    "print(y.shape)"
   ]
  },
  {
   "cell_type": "code",
   "execution_count": 66,
   "id": "e2650d40",
   "metadata": {},
   "outputs": [
    {
     "data": {
      "image/png": "[encoded data removed]",
      "text/plain": [
       "<Figure size 640x480 with 1 Axes>"
      ]
     },
     "metadata": {},
     "output_type": "display_data"
    }
   ],
   "source": [
    "# plot to see digit\n",
    "import matplotlib.pyplot as plt\n",
    "\n",
    "def plot_digit(image_data):\n",
    "    image = image_data.reshape(28, 28)\n",
    "    plt.imshow(image, cmap='binary')\n",
    "    plt.axis('off')\n",
    "    \n",
    "some_digit = X[np.random.randint(0, 70000)]\n",
    "plot_digit(some_digit)\n",
    "plt.show()"
   ]
  },
  {
   "cell_type": "markdown",
   "id": "4acad4f4",
   "metadata": {},
   "source": [
    "## Train test data split\n",
    "since openml mnist dataset already contain splitted and suffuled data,<br>\n",
    "where first 60,000 rows are train data and rest 10,000 rows are test data,\n",
    "so I will use it as it is."
   ]
  },
  {
   "cell_type": "code",
   "execution_count": 48,
   "id": "d72a97d1",
   "metadata": {},
   "outputs": [],
   "source": [
    "X_train, X_test, y_train, y_test = X[:60000], X[60000:], y[:60000], y[10000:]"
   ]
  },
  {
   "cell_type": "markdown",
   "id": "d165ac50",
   "metadata": {},
   "source": [
    "### Let's start with binary classification\n",
    "To make mnist digit classification problem binary I will label digit `3` data as target features "
   ]
  },
  {
   "cell_type": "code",
   "execution_count": 49,
   "id": "aadee25f",
   "metadata": {},
   "outputs": [],
   "source": [
    "# true for all 3 and false for rest\n",
    "y_train_6 = (y_train == 6)\n",
    "y_test_6 = (y_test == 6)"
   ]
  },
  {
   "cell_type": "markdown",
   "id": "9b8c7726",
   "metadata": {},
   "source": [
    "## Training a Model\n",
    "### SGDClassifier model training:"
   ]
  },
  {
   "cell_type": "code",
   "execution_count": 52,
   "id": "4b1ec6a4",
   "metadata": {
    "scrolled": true
   },
   "outputs": [
    {
     "data": {
      "text/plain": [
       "array([False])"
      ]
     },
     "execution_count": 52,
     "metadata": {},
     "output_type": "execute_result"
    }
   ],
   "source": [
    "from sklearn.linear_model import SGDClassifier\n",
    "\n",
    "# model instance\n",
    "sgd_clf = SGDClassifier(random_state=42)\n",
    "sgd_clf.fit(X_train, y_train_6)\n",
    "\n",
    "sgd_clf.predict([some_digit])"
   ]
  },
  {
   "cell_type": "code",
   "execution_count": 67,
   "id": "799689b4",
   "metadata": {},
   "outputs": [
    {
     "data": {
      "text/plain": [
       "array([False])"
      ]
     },
     "execution_count": 67,
     "metadata": {},
     "output_type": "execute_result"
    }
   ],
   "source": [
    "sgd_clf.predict([some_digit])"
   ]
  },
  {
   "cell_type": "markdown",
   "id": "a3ecdc40",
   "metadata": {},
   "source": [
    "# Performance Measure `[IMP]`\n",
    "+ ### Using Cross validation\n",
    "working procedure: k-fold cross_val_score, split dataset into k part train model on each part then give the average score."
   ]
  },
  {
   "cell_type": "code",
   "execution_count": 69,
   "id": "6d0930cb",
   "metadata": {},
   "outputs": [
    {
     "data": {
      "text/plain": [
       "array([0.9829 , 0.98025, 0.9804 ])"
      ]
     },
     "execution_count": 69,
     "metadata": {},
     "output_type": "execute_result"
    }
   ],
   "source": [
    "# Cross validation \n",
    "from sklearn.model_selection import cross_val_score\n",
    "cross_val_score(sgd_clf, X_train, y_train_6, cv=3, scoring='accuracy')"
   ]
  },
  {
   "cell_type": "code",
   "execution_count": 70,
   "id": "566ebaea",
   "metadata": {},
   "outputs": [
    {
     "name": "stdout",
     "output_type": "stream",
     "text": [
      "[False False False ... False False False]\n"
     ]
    },
    {
     "data": {
      "text/plain": [
       "array([0.9014 , 0.90135, 0.90135])"
      ]
     },
     "execution_count": 70,
     "metadata": {},
     "output_type": "execute_result"
    }
   ],
   "source": [
    "from sklearn.dummy import DummyClassifier\n",
    "\n",
    "dummy_clf = DummyClassifier()\n",
    "dummy_clf.fit(X_train, y_train_6)\n",
    "\n",
    "# predicting \n",
    "print(dummy_clf.predict(X_train))\n",
    "\n",
    "cross_val_score(dummy_clf, X_train, y_train_6, cv=3, scoring='accuracy')"
   ]
  },
  {
   "cell_type": "markdown",
   "id": "5bb9f70d",
   "metadata": {},
   "source": [
    "#### Q: is this performance measure satisfatory?\n",
    "Answer: No, as Accuracy score is given by <br>\n",
    "$$Accuracy Score = \\frac {TP+TN} {TP+TN+FP+FN}$$\n",
    "where,<br>\n",
    "TP = True Positive<br>\n",
    "TN = True Negative<br>\n",
    "FP = False Positive<br>\n",
    "FN = False Negative<br>\n",
    "problem : what if the data contain only about 10% of the total data as True that is if the data is skewed (means frequency of the label not uniformly distributed) like in this case"
   ]
  },
  {
   "cell_type": "code",
   "execution_count": 72,
   "id": "c29d74f7",
   "metadata": {},
   "outputs": [
    {
     "name": "stdout",
     "output_type": "stream",
     "text": [
      "Total sample: 60000\n",
      "Total True label: 5918\n",
      "Percent of Ture Label: 9.863333333333333\n"
     ]
    }
   ],
   "source": [
    "print('Total sample:', X_train.shape[0])\n",
    "print('Total True label:', y_train_6.astype('int').sum())\n",
    "print(\"Percent of Ture Label:\", y_train_6.astype('int').sum() / X_train.shape[0] * 100)"
   ]
  },
  {
   "cell_type": "markdown",
   "id": "d6a03071",
   "metadata": {},
   "source": [
    "dataset contain only about 10% label so when a model predict about 90% of train data as False it's accuracy becomes about `0.9`.<br>\n",
    "**That is why Accuracy Score is not `SATISFACTORY` when the dataset is Skewed**"
   ]
  },
  {
   "cell_type": "markdown",
   "id": "d29c9e4d",
   "metadata": {},
   "source": [
    "+ ### Confusing Matrix"
   ]
  },
  {
   "cell_type": "code",
   "execution_count": null,
   "id": "e0a4d720",
   "metadata": {},
   "outputs": [],
   "source": []
  }
 ],
 "metadata": {
  "kernelspec": {
   "display_name": "Python 3 (ipykernel)",
   "language": "python",
   "name": "python3"
  },
  "language_info": {
   "codemirror_mode": {
    "name": "ipython",
    "version": 3
   },
   "file_extension": ".py",
   "mimetype": "text/x-python",
   "name": "python",
   "nbconvert_exporter": "python",
   "pygments_lexer": "ipython3",
   "version": "3.11.5"
  }
 },
 "nbformat": 4,
 "nbformat_minor": 5
}
