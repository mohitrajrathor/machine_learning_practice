{
 "cells": [
  {
   "cell_type": "markdown",
   "id": "29bd7d4c",
   "metadata": {},
   "source": [
    "# NPPE - Pre-Processing"
   ]
  },
  {
   "cell_type": "code",
   "execution_count": 1,
   "id": "cd92dd95",
   "metadata": {},
   "outputs": [],
   "source": [
    "import pandas as pd \n",
    "import numpy as np "
   ]
  },
  {
   "cell_type": "code",
   "execution_count": 2,
   "id": "ad545225",
   "metadata": {},
   "outputs": [
    {
     "data": {
      "text/html": [
       "<div>\n",
       "<style scoped>\n",
       "    .dataframe tbody tr th:only-of-type {\n",
       "        vertical-align: middle;\n",
       "    }\n",
       "\n",
       "    .dataframe tbody tr th {\n",
       "        vertical-align: top;\n",
       "    }\n",
       "\n",
       "    .dataframe thead th {\n",
       "        text-align: right;\n",
       "    }\n",
       "</style>\n",
       "<table border=\"1\" class=\"dataframe\">\n",
       "  <thead>\n",
       "    <tr style=\"text-align: right;\">\n",
       "      <th></th>\n",
       "      <th>CRIM</th>\n",
       "      <th>ZN</th>\n",
       "      <th>INDUS</th>\n",
       "      <th>POLINDEX</th>\n",
       "      <th>RM</th>\n",
       "      <th>AGE</th>\n",
       "      <th>DIS</th>\n",
       "      <th>HIGHWAYCOUNT</th>\n",
       "      <th>TAX</th>\n",
       "      <th>PTRATIO</th>\n",
       "      <th>IMM</th>\n",
       "      <th>BPL</th>\n",
       "      <th>PRICE</th>\n",
       "      <th>RIVERSIDE</th>\n",
       "    </tr>\n",
       "  </thead>\n",
       "  <tbody>\n",
       "    <tr>\n",
       "      <th>0</th>\n",
       "      <td>1.026769</td>\n",
       "      <td>1.429034</td>\n",
       "      <td>7.851300</td>\n",
       "      <td>1.134216</td>\n",
       "      <td>6.0</td>\n",
       "      <td>42.0</td>\n",
       "      <td>5.251911</td>\n",
       "      <td>5</td>\n",
       "      <td>279.201277</td>\n",
       "      <td>20.689586</td>\n",
       "      <td>398.811960</td>\n",
       "      <td>10.461456</td>\n",
       "      <td>22.991633</td>\n",
       "      <td>NO</td>\n",
       "    </tr>\n",
       "    <tr>\n",
       "      <th>1</th>\n",
       "      <td>0.848089</td>\n",
       "      <td>0.255543</td>\n",
       "      <td>6.263434</td>\n",
       "      <td>1.245993</td>\n",
       "      <td>7.0</td>\n",
       "      <td>63.0</td>\n",
       "      <td>4.305546</td>\n",
       "      <td>8</td>\n",
       "      <td>307.444529</td>\n",
       "      <td>17.465398</td>\n",
       "      <td>377.153649</td>\n",
       "      <td>11.619690</td>\n",
       "      <td>24.551055</td>\n",
       "      <td>NO</td>\n",
       "    </tr>\n",
       "    <tr>\n",
       "      <th>2</th>\n",
       "      <td>10.925905</td>\n",
       "      <td>0.441022</td>\n",
       "      <td>18.322960</td>\n",
       "      <td>2.824833</td>\n",
       "      <td>8.0</td>\n",
       "      <td>-2.0</td>\n",
       "      <td>2.409495</td>\n",
       "      <td>25</td>\n",
       "      <td>666.492973</td>\n",
       "      <td>20.351601</td>\n",
       "      <td>387.061355</td>\n",
       "      <td>19.366070</td>\n",
       "      <td>15.875346</td>\n",
       "      <td>NO</td>\n",
       "    </tr>\n",
       "    <tr>\n",
       "      <th>3</th>\n",
       "      <td>0.559027</td>\n",
       "      <td>1.041175</td>\n",
       "      <td>11.114920</td>\n",
       "      <td>0.794952</td>\n",
       "      <td>6.0</td>\n",
       "      <td>9.0</td>\n",
       "      <td>6.898669</td>\n",
       "      <td>4</td>\n",
       "      <td>305.514181</td>\n",
       "      <td>19.787314</td>\n",
       "      <td>391.778647</td>\n",
       "      <td>6.206820</td>\n",
       "      <td>23.007756</td>\n",
       "      <td>NO</td>\n",
       "    </tr>\n",
       "    <tr>\n",
       "      <th>4</th>\n",
       "      <td>0.905063</td>\n",
       "      <td>81.167963</td>\n",
       "      <td>3.673369</td>\n",
       "      <td>1.029030</td>\n",
       "      <td>8.0</td>\n",
       "      <td>20.0</td>\n",
       "      <td>10.246463</td>\n",
       "      <td>1</td>\n",
       "      <td>315.913960</td>\n",
       "      <td>17.360439</td>\n",
       "      <td>395.833166</td>\n",
       "      <td>10.827105</td>\n",
       "      <td>21.503177</td>\n",
       "      <td>NO</td>\n",
       "    </tr>\n",
       "  </tbody>\n",
       "</table>\n",
       "</div>"
      ],
      "text/plain": [
       "        CRIM         ZN      INDUS  POLINDEX   RM   AGE        DIS  \\\n",
       "0   1.026769   1.429034   7.851300  1.134216  6.0  42.0   5.251911   \n",
       "1   0.848089   0.255543   6.263434  1.245993  7.0  63.0   4.305546   \n",
       "2  10.925905   0.441022  18.322960  2.824833  8.0  -2.0   2.409495   \n",
       "3   0.559027   1.041175  11.114920  0.794952  6.0   9.0   6.898669   \n",
       "4   0.905063  81.167963   3.673369  1.029030  8.0  20.0  10.246463   \n",
       "\n",
       "   HIGHWAYCOUNT         TAX    PTRATIO         IMM        BPL      PRICE  \\\n",
       "0             5  279.201277  20.689586  398.811960  10.461456  22.991633   \n",
       "1             8  307.444529  17.465398  377.153649  11.619690  24.551055   \n",
       "2            25  666.492973  20.351601  387.061355  19.366070  15.875346   \n",
       "3             4  305.514181  19.787314  391.778647   6.206820  23.007756   \n",
       "4             1  315.913960  17.360439  395.833166  10.827105  21.503177   \n",
       "\n",
       "  RIVERSIDE  \n",
       "0        NO  \n",
       "1        NO  \n",
       "2        NO  \n",
       "3        NO  \n",
       "4        NO  "
      ]
     },
     "execution_count": 2,
     "metadata": {},
     "output_type": "execute_result"
    }
   ],
   "source": [
    "#  loading data\n",
    "df = pd.read_csv(\"NPPE1_Preprocessing1.csv\")\n",
    "df.head()"
   ]
  },
  {
   "cell_type": "code",
   "execution_count": 3,
   "id": "fea7a58f",
   "metadata": {},
   "outputs": [
    {
     "data": {
      "text/plain": [
       "(4000, 14)"
      ]
     },
     "execution_count": 3,
     "metadata": {},
     "output_type": "execute_result"
    }
   ],
   "source": [
    "df.shape"
   ]
  },
  {
   "cell_type": "code",
   "execution_count": 4,
   "id": "4794887e",
   "metadata": {},
   "outputs": [
    {
     "data": {
      "text/html": [
       "<div>\n",
       "<style scoped>\n",
       "    .dataframe tbody tr th:only-of-type {\n",
       "        vertical-align: middle;\n",
       "    }\n",
       "\n",
       "    .dataframe tbody tr th {\n",
       "        vertical-align: top;\n",
       "    }\n",
       "\n",
       "    .dataframe thead th {\n",
       "        text-align: right;\n",
       "    }\n",
       "</style>\n",
       "<table border=\"1\" class=\"dataframe\">\n",
       "  <thead>\n",
       "    <tr style=\"text-align: right;\">\n",
       "      <th></th>\n",
       "      <th>count</th>\n",
       "      <th>mean</th>\n",
       "      <th>std</th>\n",
       "      <th>min</th>\n",
       "      <th>25%</th>\n",
       "      <th>50%</th>\n",
       "      <th>75%</th>\n",
       "      <th>max</th>\n",
       "    </tr>\n",
       "  </thead>\n",
       "  <tbody>\n",
       "    <tr>\n",
       "      <th>CRIM</th>\n",
       "      <td>4000.0</td>\n",
       "      <td>2.174158</td>\n",
       "      <td>2.475646</td>\n",
       "      <td>0.031093</td>\n",
       "      <td>0.622728</td>\n",
       "      <td>1.227945</td>\n",
       "      <td>2.377738</td>\n",
       "      <td>12.619405</td>\n",
       "    </tr>\n",
       "    <tr>\n",
       "      <th>ZN</th>\n",
       "      <td>4000.0</td>\n",
       "      <td>12.734715</td>\n",
       "      <td>23.312649</td>\n",
       "      <td>0.000281</td>\n",
       "      <td>0.464314</td>\n",
       "      <td>1.068245</td>\n",
       "      <td>20.323531</td>\n",
       "      <td>101.670740</td>\n",
       "    </tr>\n",
       "    <tr>\n",
       "      <th>INDUS</th>\n",
       "      <td>4000.0</td>\n",
       "      <td>11.208752</td>\n",
       "      <td>6.827509</td>\n",
       "      <td>0.633388</td>\n",
       "      <td>5.705110</td>\n",
       "      <td>8.906823</td>\n",
       "      <td>18.509019</td>\n",
       "      <td>30.367209</td>\n",
       "    </tr>\n",
       "    <tr>\n",
       "      <th>POLINDEX</th>\n",
       "      <td>4000.0</td>\n",
       "      <td>1.331900</td>\n",
       "      <td>0.601024</td>\n",
       "      <td>0.405085</td>\n",
       "      <td>0.864207</td>\n",
       "      <td>1.218840</td>\n",
       "      <td>1.694232</td>\n",
       "      <td>4.156570</td>\n",
       "    </tr>\n",
       "    <tr>\n",
       "      <th>RM</th>\n",
       "      <td>4000.0</td>\n",
       "      <td>7.044500</td>\n",
       "      <td>1.240526</td>\n",
       "      <td>-1.000000</td>\n",
       "      <td>6.000000</td>\n",
       "      <td>7.000000</td>\n",
       "      <td>8.000000</td>\n",
       "      <td>11.000000</td>\n",
       "    </tr>\n",
       "    <tr>\n",
       "      <th>AGE</th>\n",
       "      <td>4000.0</td>\n",
       "      <td>66.005000</td>\n",
       "      <td>29.100923</td>\n",
       "      <td>-2.000000</td>\n",
       "      <td>41.000000</td>\n",
       "      <td>74.000000</td>\n",
       "      <td>93.000000</td>\n",
       "      <td>103.000000</td>\n",
       "    </tr>\n",
       "    <tr>\n",
       "      <th>DIS</th>\n",
       "      <td>4000.0</td>\n",
       "      <td>4.820784</td>\n",
       "      <td>2.174427</td>\n",
       "      <td>1.163082</td>\n",
       "      <td>3.117734</td>\n",
       "      <td>4.325631</td>\n",
       "      <td>6.197419</td>\n",
       "      <td>14.045318</td>\n",
       "    </tr>\n",
       "    <tr>\n",
       "      <th>HIGHWAYCOUNT</th>\n",
       "      <td>4000.0</td>\n",
       "      <td>8.464000</td>\n",
       "      <td>7.460169</td>\n",
       "      <td>1.000000</td>\n",
       "      <td>4.000000</td>\n",
       "      <td>6.000000</td>\n",
       "      <td>7.000000</td>\n",
       "      <td>27.000000</td>\n",
       "    </tr>\n",
       "    <tr>\n",
       "      <th>TAX</th>\n",
       "      <td>4000.0</td>\n",
       "      <td>376.932036</td>\n",
       "      <td>150.270818</td>\n",
       "      <td>187.025099</td>\n",
       "      <td>277.418380</td>\n",
       "      <td>308.255685</td>\n",
       "      <td>405.418015</td>\n",
       "      <td>713.028133</td>\n",
       "    </tr>\n",
       "    <tr>\n",
       "      <th>PTRATIO</th>\n",
       "      <td>4000.0</td>\n",
       "      <td>19.051638</td>\n",
       "      <td>2.267293</td>\n",
       "      <td>12.641899</td>\n",
       "      <td>17.634064</td>\n",
       "      <td>19.386282</td>\n",
       "      <td>20.809079</td>\n",
       "      <td>24.322091</td>\n",
       "    </tr>\n",
       "    <tr>\n",
       "      <th>IMM</th>\n",
       "      <td>4000.0</td>\n",
       "      <td>370.615373</td>\n",
       "      <td>67.687586</td>\n",
       "      <td>0.532980</td>\n",
       "      <td>378.426323</td>\n",
       "      <td>392.915025</td>\n",
       "      <td>396.962724</td>\n",
       "      <td>400.780583</td>\n",
       "    </tr>\n",
       "    <tr>\n",
       "      <th>BPL</th>\n",
       "      <td>4000.0</td>\n",
       "      <td>12.326057</td>\n",
       "      <td>6.143060</td>\n",
       "      <td>1.986295</td>\n",
       "      <td>7.514027</td>\n",
       "      <td>11.188226</td>\n",
       "      <td>16.092990</td>\n",
       "      <td>35.997281</td>\n",
       "    </tr>\n",
       "    <tr>\n",
       "      <th>PRICE</th>\n",
       "      <td>4000.0</td>\n",
       "      <td>24.355923</td>\n",
       "      <td>8.633523</td>\n",
       "      <td>6.348266</td>\n",
       "      <td>19.259094</td>\n",
       "      <td>22.634566</td>\n",
       "      <td>26.947036</td>\n",
       "      <td>53.090256</td>\n",
       "    </tr>\n",
       "  </tbody>\n",
       "</table>\n",
       "</div>"
      ],
      "text/plain": [
       "               count        mean         std         min         25%  \\\n",
       "CRIM          4000.0    2.174158    2.475646    0.031093    0.622728   \n",
       "ZN            4000.0   12.734715   23.312649    0.000281    0.464314   \n",
       "INDUS         4000.0   11.208752    6.827509    0.633388    5.705110   \n",
       "POLINDEX      4000.0    1.331900    0.601024    0.405085    0.864207   \n",
       "RM            4000.0    7.044500    1.240526   -1.000000    6.000000   \n",
       "AGE           4000.0   66.005000   29.100923   -2.000000   41.000000   \n",
       "DIS           4000.0    4.820784    2.174427    1.163082    3.117734   \n",
       "HIGHWAYCOUNT  4000.0    8.464000    7.460169    1.000000    4.000000   \n",
       "TAX           4000.0  376.932036  150.270818  187.025099  277.418380   \n",
       "PTRATIO       4000.0   19.051638    2.267293   12.641899   17.634064   \n",
       "IMM           4000.0  370.615373   67.687586    0.532980  378.426323   \n",
       "BPL           4000.0   12.326057    6.143060    1.986295    7.514027   \n",
       "PRICE         4000.0   24.355923    8.633523    6.348266   19.259094   \n",
       "\n",
       "                     50%         75%         max  \n",
       "CRIM            1.227945    2.377738   12.619405  \n",
       "ZN              1.068245   20.323531  101.670740  \n",
       "INDUS           8.906823   18.509019   30.367209  \n",
       "POLINDEX        1.218840    1.694232    4.156570  \n",
       "RM              7.000000    8.000000   11.000000  \n",
       "AGE            74.000000   93.000000  103.000000  \n",
       "DIS             4.325631    6.197419   14.045318  \n",
       "HIGHWAYCOUNT    6.000000    7.000000   27.000000  \n",
       "TAX           308.255685  405.418015  713.028133  \n",
       "PTRATIO        19.386282   20.809079   24.322091  \n",
       "IMM           392.915025  396.962724  400.780583  \n",
       "BPL            11.188226   16.092990   35.997281  \n",
       "PRICE          22.634566   26.947036   53.090256  "
      ]
     },
     "execution_count": 4,
     "metadata": {},
     "output_type": "execute_result"
    }
   ],
   "source": [
    "df.describe().T"
   ]
  },
  {
   "cell_type": "code",
   "execution_count": 5,
   "id": "b9da9dcf",
   "metadata": {},
   "outputs": [
    {
     "data": {
      "text/plain": [
       "3953"
      ]
     },
     "execution_count": 5,
     "metadata": {},
     "output_type": "execute_result"
    }
   ],
   "source": [
    "# home with rooms greater than 5\n",
    "df[df['RM'] >= 5]['RM'].count()"
   ]
  },
  {
   "cell_type": "code",
   "execution_count": 6,
   "id": "df4c1c4b",
   "metadata": {},
   "outputs": [
    {
     "data": {
      "text/plain": [
       "52.36590175716407"
      ]
     },
     "execution_count": 6,
     "metadata": {},
     "output_type": "execute_result"
    }
   ],
   "source": [
    "# avg price of top 10 expensive homes\n",
    "df.sort_values(by='PRICE', ascending=False)['PRICE'].iloc[:10].mean()"
   ]
  },
  {
   "cell_type": "code",
   "execution_count": 7,
   "id": "27d963aa",
   "metadata": {},
   "outputs": [
    {
     "data": {
      "text/plain": [
       "40"
      ]
     },
     "execution_count": 7,
     "metadata": {},
     "output_type": "execute_result"
    }
   ],
   "source": [
    "# null values in the room\n",
    "df[df['RM'] == -1]['RM'].count()"
   ]
  },
  {
   "cell_type": "code",
   "execution_count": 8,
   "id": "bd0cdd97",
   "metadata": {},
   "outputs": [
    {
     "data": {
      "text/plain": [
       "50"
      ]
     },
     "execution_count": 8,
     "metadata": {},
     "output_type": "execute_result"
    }
   ],
   "source": [
    "# null values in AGE\n",
    "df[df['AGE'] == -2]['AGE'].count()"
   ]
  },
  {
   "cell_type": "code",
   "execution_count": 9,
   "id": "f000a425",
   "metadata": {},
   "outputs": [
    {
     "data": {
      "text/plain": [
       "88"
      ]
     },
     "execution_count": 9,
     "metadata": {},
     "output_type": "execute_result"
    }
   ],
   "source": [
    "# null values in reverside feature\n",
    "df[df['RIVERSIDE'] == 'UNKNOWN']['RIVERSIDE'].count()"
   ]
  },
  {
   "cell_type": "code",
   "execution_count": 10,
   "id": "8168233b",
   "metadata": {},
   "outputs": [
    {
     "data": {
      "text/plain": [
       "CRIM            44\n",
       "ZN              44\n",
       "INDUS           44\n",
       "POLINDEX        44\n",
       "RM              44\n",
       "AGE             44\n",
       "DIS             44\n",
       "HIGHWAYCOUNT    44\n",
       "TAX             44\n",
       "PTRATIO         44\n",
       "IMM             44\n",
       "BPL             44\n",
       "PRICE           44\n",
       "RIVERSIDE       44\n",
       "dtype: int64"
      ]
     },
     "execution_count": 10,
     "metadata": {},
     "output_type": "execute_result"
    }
   ],
   "source": [
    "# number of houses build near riverside in past 50 year\n",
    "df[(df['RIVERSIDE'] == 'YES') & (df['AGE'] <= 50) & (df['RIVERSIDE'] != 'UNKNOWN') & (df['AGE'] != -2)].count()"
   ]
  },
  {
   "cell_type": "code",
   "execution_count": 11,
   "id": "0afac0da",
   "metadata": {},
   "outputs": [
    {
     "data": {
      "text/plain": [
       "CRIM            1211\n",
       "ZN              1211\n",
       "INDUS           1211\n",
       "POLINDEX        1211\n",
       "RM              1211\n",
       "AGE             1211\n",
       "DIS             1211\n",
       "HIGHWAYCOUNT    1211\n",
       "TAX             1211\n",
       "PTRATIO         1211\n",
       "IMM             1211\n",
       "BPL             1211\n",
       "PRICE           1211\n",
       "RIVERSIDE       1211\n",
       "dtype: int64"
      ]
     },
     "execution_count": 11,
     "metadata": {},
     "output_type": "execute_result"
    }
   ],
   "source": [
    "df[df['HIGHWAYCOUNT'].isin([6,7,8])].count()"
   ]
  },
  {
   "cell_type": "code",
   "execution_count": 27,
   "id": "d351f0a9",
   "metadata": {},
   "outputs": [],
   "source": [
    "# binning price\n",
    "df['CATEGORY'] = pd.cut(df['PRICE'], bins=[0, 10, 20, 30, 40, 100], right=False)"
   ]
  },
  {
   "cell_type": "code",
   "execution_count": 28,
   "id": "2fdde5ea",
   "metadata": {},
   "outputs": [
    {
     "data": {
      "text/plain": [
       "CATEGORY\n",
       "[20, 30)     2028\n",
       "[10, 20)     1158\n",
       "[30, 40)      503\n",
       "[40, 100)     268\n",
       "[0, 10)        43\n",
       "Name: count, dtype: int64"
      ]
     },
     "execution_count": 28,
     "metadata": {},
     "output_type": "execute_result"
    }
   ],
   "source": [
    "df['CATEGORY'].value_counts()"
   ]
  },
  {
   "cell_type": "markdown",
   "id": "080e2ef2",
   "metadata": {},
   "source": [
    "## Data-Preprocessing"
   ]
  },
  {
   "cell_type": "code",
   "execution_count": 29,
   "id": "0f90202c",
   "metadata": {},
   "outputs": [],
   "source": [
    "# converting \n",
    "# -2 in AGE\n",
    "# -1 in RM and\n",
    "# `UNKNOWN` in RIVERSIDE \n",
    "#  to np.nan\n",
    "\n",
    "df['AGE'].replace(-2, np.nan, inplace=True)\n",
    "df['RM'].replace(-1, np.nan, inplace=True)\n",
    "df['RIVERSIDE'].replace('UNKNOWN', np.nan, inplace=True)"
   ]
  },
  {
   "cell_type": "code",
   "execution_count": 30,
   "id": "1a758fd6",
   "metadata": {},
   "outputs": [
    {
     "data": {
      "image/png": "[encoded data removed]",
      "text/plain": [
       "<Figure size 1200x1000 with 16 Axes>"
      ]
     },
     "metadata": {},
     "output_type": "display_data"
    }
   ],
   "source": [
    "# visualising data distribution to guess how to convert it to bell shape\n",
    "import matplotlib.pyplot as plt\n",
    "\n",
    "df.hist(bins=50, figsize=(12, 10))\n",
    "plt.show()"
   ]
  },
  {
   "cell_type": "code",
   "execution_count": 31,
   "id": "811e0b51",
   "metadata": {},
   "outputs": [
    {
     "data": {
      "text/plain": [
       "Index(['CRIM', 'ZN', 'INDUS', 'POLINDEX', 'RM', 'AGE', 'DIS', 'HIGHWAYCOUNT',\n",
       "       'TAX', 'PTRATIO', 'IMM', 'BPL', 'PRICE', 'RIVERSIDE', 'CATEGORY'],\n",
       "      dtype='object')"
      ]
     },
     "execution_count": 31,
     "metadata": {},
     "output_type": "execute_result"
    }
   ],
   "source": [
    "df.columns"
   ]
  },
  {
   "cell_type": "code",
   "execution_count": 32,
   "id": "6abb31f9",
   "metadata": {},
   "outputs": [],
   "source": [
    "df.drop(['CATEGORY'], axis=1, inplace=True)"
   ]
  },
  {
   "cell_type": "code",
   "execution_count": 35,
   "id": "3619a780",
   "metadata": {},
   "outputs": [
    {
     "data": {
      "text/plain": [
       "(2800, 13)"
      ]
     },
     "execution_count": 35,
     "metadata": {},
     "output_type": "execute_result"
    }
   ],
   "source": [
    "# splitting data into train - test\n",
    "from sklearn.model_selection import train_test_split\n",
    "\n",
    "features = ['CRIM', 'ZN', 'INDUS', 'POLINDEX', 'RM', 'AGE', 'DIS', 'HIGHWAYCOUNT',\n",
    "       'TAX', 'PTRATIO', 'IMM', 'BPL', 'RIVERSIDE']\n",
    "\n",
    "target = ['PRICE']\n",
    "\n",
    "X_train, X_test, y_train, y_test = train_test_split(df[features], df[target], test_size=0.3, random_state=0)\n",
    "\n",
    "X_train.shape"
   ]
  },
  {
   "cell_type": "code",
   "execution_count": 36,
   "id": "a4766837",
   "metadata": {},
   "outputs": [],
   "source": [
    "# categorise features for scaling\n",
    "min_max_attr = ['CRIM', 'ZN', 'POLINDEX', 'DIS', 'HIGHWAYCOUNT', 'TAX', 'PTRATIO', 'IMM', 'BPL']\n",
    "scaler_attr = ['INDUS']\n",
    "RM_pipeline = ['RM']\n",
    "AGE_pipeline = ['AGE']\n",
    "RIVERSIDE_pipeline = ['RIVERSIDE']\n"
   ]
  },
  {
   "cell_type": "code",
   "execution_count": 37,
   "id": "0c9f259e",
   "metadata": {},
   "outputs": [],
   "source": [
    "# making preprocessing pipelines\n",
    "from sklearn.impute import SimpleImputer\n",
    "from sklearn.pipeline import Pipeline\n",
    "from sklearn.preprocessing import MinMaxScaler, StandardScaler, OneHotEncoder\n",
    "from sklearn.compose import ColumnTransformer\n",
    "\n",
    "minmax_scaler = Pipeline([\n",
    "    ('minmax_scaler', MinMaxScaler())\n",
    "])\n",
    "\n",
    "stander_scaler = Pipeline([\n",
    "    ('std_scaler', StandardScaler())\n",
    "])\n",
    "\n",
    "median_minmax_imputer = Pipeline([\n",
    "    ('median_imputer', SimpleImputer(strategy='median')),\n",
    "    ('MinMax', MinMaxScaler())\n",
    "])\n",
    "\n",
    "mean_scaler_imputer = Pipeline([\n",
    "    ('mean_imputer', SimpleImputer(strategy='mean')),\n",
    "    ('minmax', MinMaxScaler())\n",
    "])\n",
    "\n",
    "freq_onehot_imputer = Pipeline([\n",
    "    ('most_freq_imputer', SimpleImputer(strategy='most_frequent')),\n",
    "    ('one_hot', OneHotEncoder())\n",
    "])\n",
    "\n",
    "\n",
    "transformer = ColumnTransformer(\n",
    "    transformers=[\n",
    "        ('minmax', minmax_scaler, min_max_attr),\n",
    "        ('rm', median_minmax_imputer, RM_pipeline),\n",
    "        ('age', mean_scaler_imputer, AGE_pipeline),\n",
    "        ('riverseide', freq_onehot_imputer, RIVERSIDE_pipeline)\n",
    "    ],\n",
    "    remainder='passthrough'\n",
    ")"
   ]
  },
  {
   "cell_type": "code",
   "execution_count": 42,
   "id": "a549b729",
   "metadata": {},
   "outputs": [],
   "source": [
    "trans_train_df = transformer.fit_transform(X_train)\n",
    "trans_test_df = transformer.transform(X_test)"
   ]
  },
  {
   "cell_type": "code",
   "execution_count": 43,
   "id": "2eac080d",
   "metadata": {},
   "outputs": [
    {
     "data": {
      "text/plain": [
       "(1200, 14)"
      ]
     },
     "execution_count": 43,
     "metadata": {},
     "output_type": "execute_result"
    }
   ],
   "source": [
    "trans_test_df.shape"
   ]
  },
  {
   "cell_type": "code",
   "execution_count": 44,
   "id": "1916982d",
   "metadata": {},
   "outputs": [
    {
     "data": {
      "text/plain": [
       "1.2003499318512814"
      ]
     },
     "execution_count": 44,
     "metadata": {},
     "output_type": "execute_result"
    }
   ],
   "source": [
    "trans_test_df.mean()"
   ]
  },
  {
   "cell_type": "code",
   "execution_count": 41,
   "id": "fafc387d",
   "metadata": {},
   "outputs": [],
   "source": [
    "preprocessor = ColumnTransformer(\n",
    "    transformers=[\n",
    "        ('crim', MinMaxScaler(), ['CRIM']),\n",
    "        ('zn', MinMaxScaler(), ['ZN']),\n",
    "        ('indus', StandardScaler(), ['INDUS']),\n",
    "        ('polindex', MinMaxScaler(), ['POLINDEX']),\n",
    "        ('dis', MinMaxScaler(), ['DIS']),\n",
    "        ('highwaycount', MinMaxScaler(), ['HIGHWAYCOUNT']),\n",
    "        ('tax', MinMaxScaler(), ['TAX']),\n",
    "        ('ptratio', MinMaxScaler(), ['PTRATIO']),\n",
    "        ('imm', MinMaxScaler(), ['IMM']),\n",
    "        ('bpl', MinMaxScaler(), ['BPL']),\n",
    "        ('rm', Pipeline([\n",
    "            ('imputer', SimpleImputer(strategy='median')),\n",
    "            ('scaler', MinMaxScaler())\n",
    "        ]), ['RM']),\n",
    "        ('age', Pipeline([\n",
    "            ('imputer', SimpleImputer(strategy='mean')),\n",
    "            ('scaler', MinMaxScaler())\n",
    "        ]), ['AGE']),\n",
    "        ('riverside', Pipeline([\n",
    "            ('imputer', SimpleImputer(strategy='most_frequent')),\n",
    "            ('onehot', OneHotEncoder(sparse_output=False))\n",
    "        ]), ['RIVERSIDE'])\n",
    "    ],\n",
    "    remainder='passthrough'\n",
    ")"
   ]
  },
  {
   "cell_type": "code",
   "execution_count": 46,
   "id": "dae56830",
   "metadata": {},
   "outputs": [
    {
     "data": {
      "text/plain": [
       "0.3861745655097562"
      ]
     },
     "execution_count": 46,
     "metadata": {},
     "output_type": "execute_result"
    }
   ],
   "source": [
    "temp_train_df = preprocessor.fit_transform(X_train)\n",
    "temp_test_df = preprocessor.transform(X_test)\n",
    "\n",
    "temp_test_df.mean()"
   ]
  },
  {
   "cell_type": "code",
   "execution_count": null,
   "id": "96dbdccc",
   "metadata": {},
   "outputs": [],
   "source": []
  }
 ],
 "metadata": {
  "kernelspec": {
   "display_name": "Python 3 (ipykernel)",
   "language": "python",
   "name": "python3"
  },
  "language_info": {
   "codemirror_mode": {
    "name": "ipython",
    "version": 3
   },
   "file_extension": ".py",
   "mimetype": "text/x-python",
   "name": "python",
   "nbconvert_exporter": "python",
   "pygments_lexer": "ipython3",
   "version": "3.11.5"
  }
 },
 "nbformat": 4,
 "nbformat_minor": 5
}
